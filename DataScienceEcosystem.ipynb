{
 "cells": [
  {
   "cell_type": "markdown",
   "id": "13fd688f-31b9-4455-9b9f-c5569fbd2e5a",
   "metadata": {},
   "source": [
    "# Data Science Tools and Ecosystem"
   ]
  },
  {
   "cell_type": "markdown",
   "id": "42991aa7-7e8d-453c-96c5-85c14351fe3a",
   "metadata": {},
   "source": [
    "In this notebook, Data Science Tools and Ecosystem is summarized"
   ]
  },
  {
   "cell_type": "markdown",
   "id": "6106a9da-69ac-4e61-9580-bbb38697b009",
   "metadata": {},
   "source": [
    "Some of the popular languages that the data scientists use are:\n",
    "1. Python\n",
    "2. R\n",
    "3. SQL\n",
    "4. C++\n",
    "5. Java"
   ]
  },
  {
   "cell_type": "markdown",
   "id": "843e49bb-465b-4e11-87e3-ec1729fc0128",
   "metadata": {},
   "source": [
    "Some of the most commonly used data science libraries in Python include:\n",
    "1. NumPy\n",
    "2. pandas\n",
    "3. Matplotlib\n",
    "4. Seaborn\n",
    "5. SciPy\n",
    "6. scikit-learn\n",
    "7. TensorFlow\n",
    "8. PyTorch\n",
    "9. Statsmodels\n",
    "10. Plotly"
   ]
  },
  {
   "cell_type": "markdown",
   "id": "06476166-6fe1-4bcd-aaef-9c6b4cb4b56f",
   "metadata": {},
   "source": [
    "|Data Sceince Tools|\n",
    "|---|\n",
    "|SAS|\n",
    "|Apache Hadoop|\n",
    "|Tensorflow|"
   ]
  },
  {
   "cell_type": "markdown",
   "id": "023aa633-4f57-4732-8441-d37ece883823",
   "metadata": {},
   "source": [
    "### Below are a few examples of evaluating arithmetic expressions in Python"
   ]
  },
  {
   "cell_type": "code",
   "execution_count": 1,
   "id": "d8eba0ee-b463-4c34-a073-06232bd33c7b",
   "metadata": {},
   "outputs": [
    {
     "data": {
      "text/plain": [
       "17"
      ]
     },
     "execution_count": 1,
     "metadata": {},
     "output_type": "execute_result"
    }
   ],
   "source": [
    "#this is a common arithmetic example to multiply and then add integers\n",
    "(3*4)+5"
   ]
  },
  {
   "cell_type": "code",
   "execution_count": 2,
   "id": "968978c6-3487-41f6-ab42-e132d8dd9311",
   "metadata": {},
   "outputs": [
    {
     "data": {
      "text/plain": [
       "3.3333333333333335"
      ]
     },
     "execution_count": 2,
     "metadata": {},
     "output_type": "execute_result"
    }
   ],
   "source": [
    "#this will convert 200 minutes into hours by dividing by 60\n",
    "200/60"
   ]
  },
  {
   "cell_type": "markdown",
   "id": "3982bc78-b6b2-4d76-a9ec-14de519cf765",
   "metadata": {},
   "source": [
    "_Objectives_\n",
    "* List popular languages of Data Science\n",
    "* List popular libraries of Data Science\n",
    "* List of well known Data Science tools\n",
    "* How to provide comments in the cell"
   ]
  },
  {
   "cell_type": "markdown",
   "id": "20be3693-c04f-43d3-ae72-09d42b80f6f7",
   "metadata": {},
   "source": [
    "## Author's Name\n",
    "Devansh Mittal"
   ]
  },
  {
   "cell_type": "code",
   "execution_count": null,
   "id": "545dd320-2d24-4f44-b85a-bd76ef173325",
   "metadata": {},
   "outputs": [],
   "source": []
  }
 ],
 "metadata": {
  "kernelspec": {
   "display_name": "Python 3 (ipykernel)",
   "language": "python",
   "name": "python3"
  },
  "language_info": {
   "codemirror_mode": {
    "name": "ipython",
    "version": 3
   },
   "file_extension": ".py",
   "mimetype": "text/x-python",
   "name": "python",
   "nbconvert_exporter": "python",
   "pygments_lexer": "ipython3",
   "version": "3.13.5"
  }
 },
 "nbformat": 4,
 "nbformat_minor": 5
}
